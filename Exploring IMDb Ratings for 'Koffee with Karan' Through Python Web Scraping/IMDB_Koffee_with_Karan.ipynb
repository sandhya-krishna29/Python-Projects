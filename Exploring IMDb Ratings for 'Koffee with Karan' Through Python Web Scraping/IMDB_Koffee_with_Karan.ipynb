{
  "nbformat": 4,
  "nbformat_minor": 0,
  "metadata": {
    "colab": {
      "provenance": []
    },
    "kernelspec": {
      "name": "python3",
      "display_name": "Python 3"
    },
    "language_info": {
      "name": "python"
    }
  },
  "cells": [
    {
      "cell_type": "markdown",
      "source": [
        "Reference link for Webscraping : https://www.youtube.com/watch?v=O68xT4dE_zU&t=793s"
      ],
      "metadata": {
        "id": "5DvCCqVvP6AJ"
      }
    },
    {
      "cell_type": "markdown",
      "source": [
        "#Importing modules"
      ],
      "metadata": {
        "id": "2Wk3D8diV6Pv"
      }
    },
    {
      "cell_type": "code",
      "source": [
        "import pandas as pd\n",
        "from bs4 import BeautifulSoup\n",
        "import requests"
      ],
      "metadata": {
        "id": "gmypVpR3V30K"
      },
      "execution_count": 2,
      "outputs": []
    },
    {
      "cell_type": "markdown",
      "source": [
        "#Request page source from URL"
      ],
      "metadata": {
        "id": "cOLyRPFKWQS4"
      }
    },
    {
      "cell_type": "code",
      "source": [
        "season1_url = 'https://www.imdb.com/title/tt0445883/episodes/?season=1'\n",
        "season1_page=requests.get(season1_url)\n",
        "season1_page\n"
      ],
      "metadata": {
        "colab": {
          "base_uri": "https://localhost:8080/"
        },
        "id": "SUW0KX7APC1z",
        "outputId": "9a905cbf-0e03-4fc8-8431-6b5fe016d98f"
      },
      "execution_count": 3,
      "outputs": [
        {
          "output_type": "execute_result",
          "data": {
            "text/plain": [
              "<Response [403]>"
            ]
          },
          "metadata": {},
          "execution_count": 3
        }
      ]
    },
    {
      "cell_type": "markdown",
      "source": [
        "When we try to get fetch the request for season1 url via python code, we get responde as <Response [403]>.  The HTTP 403 Forbidden response status code indicates that the server understands the request but refuses to authorize it.\n",
        "This is because we are trying to scrape website usign python.\n",
        "Ref: https://scrapeops.io/web-scraping-playbook/403-forbidden-error-web-scraping/\n",
        "\n",
        "To fix this issue, we use fake agents as mentioned in the above reference."
      ],
      "metadata": {
        "id": "c0jzqnuPZD7t"
      }
    },
    {
      "cell_type": "code",
      "source": [
        "r = requests.get('http://httpbin.org/headers')\n",
        "print(r.text)\n",
        "HEADERS = {'User-Agent': 'Mozilla/5.0 (iPad; CPU OS 12_2 like Mac OS X) AppleWebKit/605.1.15 (KHTML, like Gecko) Mobile/15E148'}\n"
      ],
      "metadata": {
        "colab": {
          "base_uri": "https://localhost:8080/"
        },
        "id": "Vv9qdQ0xXv4u",
        "outputId": "32e84b4d-2c9b-4ad2-e34d-c9cc11a55c5e"
      },
      "execution_count": 4,
      "outputs": [
        {
          "output_type": "stream",
          "name": "stdout",
          "text": [
            "{\n",
            "  \"headers\": {\n",
            "    \"Accept\": \"*/*\", \n",
            "    \"Accept-Encoding\": \"gzip, deflate\", \n",
            "    \"Host\": \"httpbin.org\", \n",
            "    \"User-Agent\": \"python-requests/2.31.0\", \n",
            "    \"X-Amzn-Trace-Id\": \"Root=1-65df4bf8-563b2a7200ef177d30634e2d\"\n",
            "  }\n",
            "}\n",
            "\n"
          ]
        }
      ]
    },
    {
      "cell_type": "markdown",
      "source": [
        "Since we have 8 seasons to scrape data from, we use function to get the values like season number, imdb rating, date etc of all 8 seasons and store them in lists and then we store the combined values of all 8 seasons in a dictionary."
      ],
      "metadata": {
        "id": "ayfIpAl1LAyL"
      }
    },
    {
      "cell_type": "code",
      "source": [
        "def scrape_imdb_episodes(season_soup):\n",
        "  seasons= []\n",
        "  episode_numbers = []\n",
        "  episode_titles = []\n",
        "  date_aired = []\n",
        "  imdb_ratings = []\n",
        "\n",
        "  scraped_episodes= season_soup.find_all('div',class_='ipc-title__text')\n",
        "  episode_dates = season_soup.find_all('span',class_='sc-f2169d65-10 iZXnmI')\n",
        "  episode_ratings= season_soup.find_all('span',class_='ipc-rating-star ipc-rating-star--base ipc-rating-star--imdb ratingGroup--imdb-rating')\n",
        "\n",
        "  for ep in scraped_episodes:\n",
        "    episode_info = ep.get_text().strip()\n",
        "    seasons.append(episode_info.split('∙')[0].split('.')[0].strip())\n",
        "    episode_numbers.append(episode_info.split('∙')[0].split('.')[1].strip())\n",
        "    episode_titles.append(episode_info.split('∙')[1].strip())\n",
        "\n",
        "  for date in episode_dates:\n",
        "    date_info = date.get_text().strip()\n",
        "    date_aired.append(date_info)\n",
        "\n",
        "  for rating in episode_ratings:\n",
        "    rating_info = rating.get_text().strip()\n",
        "    imdb_ratings.append(rating_info.split('/')[0].strip())\n",
        "\n",
        "  return seasons,episode_numbers,episode_titles,date_aired,imdb_ratings\n"
      ],
      "metadata": {
        "id": "jbx3niPn2OVQ"
      },
      "execution_count": 5,
      "outputs": []
    },
    {
      "cell_type": "code",
      "source": [
        "base_url = 'https://www.imdb.com/title/tt0445883/episodes/?season={}'\n",
        "kwk_data = {'Season':[],'Episode':[],'Title':[],'Date':[],'IMDB Rating':[]}\n",
        "for season_num in range(1,9):\n",
        "  #print(season_num)\n",
        "  season_url = base_url.format(season_num)\n",
        "  season_page = requests.get(season_url,headers=HEADERS)\n",
        "  season_soup = BeautifulSoup(season_page.content,\"html.parser\")\n",
        "  seasons,episode_numbers,episode_titles,date_aired,imdb_ratings = scrape_imdb_episodes(season_soup)\n",
        "  kwk_data['Season'].extend(seasons)\n",
        "  kwk_data['Episode'].extend(episode_numbers)\n",
        "  kwk_data['Title'].extend(episode_titles)\n",
        "  kwk_data['Date'].extend(date_aired)\n",
        "  kwk_data['IMDB Rating'].extend(imdb_ratings)\n"
      ],
      "metadata": {
        "id": "vX0OHKnhNIju"
      },
      "execution_count": 6,
      "outputs": []
    },
    {
      "cell_type": "markdown",
      "source": [
        "Creating a dataframe based on the dictionary and converting the dataframe to excel."
      ],
      "metadata": {
        "id": "fUmV0GqpONYb"
      }
    },
    {
      "cell_type": "code",
      "source": [
        "kwk_df = pd.DataFrame(kwk_data)"
      ],
      "metadata": {
        "id": "B2zFeLq3TFQm"
      },
      "execution_count": 8,
      "outputs": []
    },
    {
      "cell_type": "code",
      "source": [
        "kwk_df.head(5)"
      ],
      "metadata": {
        "colab": {
          "base_uri": "https://localhost:8080/",
          "height": 206
        },
        "id": "3jJ2RiysQZR2",
        "outputId": "3268e507-75eb-46a3-d602-c86cd4521759"
      },
      "execution_count": 9,
      "outputs": [
        {
          "output_type": "execute_result",
          "data": {
            "text/plain": [
              "  Season Episode                              Title               Date  \\\n",
              "0     S1      E1                   Shahrukh & Kajol  Fri, Nov 19, 2004   \n",
              "1     S1      E2                   Kareena and Rani  Fri, Nov 26, 2004   \n",
              "2     S1      E3                    Saif and Preity   Fri, Dec 3, 2004   \n",
              "3     S1      E4  Sanjay Leela Bhansali & Aishwarya  Sat, Dec 11, 2004   \n",
              "4     S1      E5          Fardeen Khan & Zayed Khan  Fri, Dec 17, 2004   \n",
              "\n",
              "  IMDB Rating  \n",
              "0         8.3  \n",
              "1         8.3  \n",
              "2         7.6  \n",
              "3         7.4  \n",
              "4         6.1  "
            ],
            "text/html": [
              "\n",
              "  <div id=\"df-d09ff938-faca-40e7-b457-504058e5e0b8\" class=\"colab-df-container\">\n",
              "    <div>\n",
              "<style scoped>\n",
              "    .dataframe tbody tr th:only-of-type {\n",
              "        vertical-align: middle;\n",
              "    }\n",
              "\n",
              "    .dataframe tbody tr th {\n",
              "        vertical-align: top;\n",
              "    }\n",
              "\n",
              "    .dataframe thead th {\n",
              "        text-align: right;\n",
              "    }\n",
              "</style>\n",
              "<table border=\"1\" class=\"dataframe\">\n",
              "  <thead>\n",
              "    <tr style=\"text-align: right;\">\n",
              "      <th></th>\n",
              "      <th>Season</th>\n",
              "      <th>Episode</th>\n",
              "      <th>Title</th>\n",
              "      <th>Date</th>\n",
              "      <th>IMDB Rating</th>\n",
              "    </tr>\n",
              "  </thead>\n",
              "  <tbody>\n",
              "    <tr>\n",
              "      <th>0</th>\n",
              "      <td>S1</td>\n",
              "      <td>E1</td>\n",
              "      <td>Shahrukh &amp; Kajol</td>\n",
              "      <td>Fri, Nov 19, 2004</td>\n",
              "      <td>8.3</td>\n",
              "    </tr>\n",
              "    <tr>\n",
              "      <th>1</th>\n",
              "      <td>S1</td>\n",
              "      <td>E2</td>\n",
              "      <td>Kareena and Rani</td>\n",
              "      <td>Fri, Nov 26, 2004</td>\n",
              "      <td>8.3</td>\n",
              "    </tr>\n",
              "    <tr>\n",
              "      <th>2</th>\n",
              "      <td>S1</td>\n",
              "      <td>E3</td>\n",
              "      <td>Saif and Preity</td>\n",
              "      <td>Fri, Dec 3, 2004</td>\n",
              "      <td>7.6</td>\n",
              "    </tr>\n",
              "    <tr>\n",
              "      <th>3</th>\n",
              "      <td>S1</td>\n",
              "      <td>E4</td>\n",
              "      <td>Sanjay Leela Bhansali &amp; Aishwarya</td>\n",
              "      <td>Sat, Dec 11, 2004</td>\n",
              "      <td>7.4</td>\n",
              "    </tr>\n",
              "    <tr>\n",
              "      <th>4</th>\n",
              "      <td>S1</td>\n",
              "      <td>E5</td>\n",
              "      <td>Fardeen Khan &amp; Zayed Khan</td>\n",
              "      <td>Fri, Dec 17, 2004</td>\n",
              "      <td>6.1</td>\n",
              "    </tr>\n",
              "  </tbody>\n",
              "</table>\n",
              "</div>\n",
              "    <div class=\"colab-df-buttons\">\n",
              "\n",
              "  <div class=\"colab-df-container\">\n",
              "    <button class=\"colab-df-convert\" onclick=\"convertToInteractive('df-d09ff938-faca-40e7-b457-504058e5e0b8')\"\n",
              "            title=\"Convert this dataframe to an interactive table.\"\n",
              "            style=\"display:none;\">\n",
              "\n",
              "  <svg xmlns=\"http://www.w3.org/2000/svg\" height=\"24px\" viewBox=\"0 -960 960 960\">\n",
              "    <path d=\"M120-120v-720h720v720H120Zm60-500h600v-160H180v160Zm220 220h160v-160H400v160Zm0 220h160v-160H400v160ZM180-400h160v-160H180v160Zm440 0h160v-160H620v160ZM180-180h160v-160H180v160Zm440 0h160v-160H620v160Z\"/>\n",
              "  </svg>\n",
              "    </button>\n",
              "\n",
              "  <style>\n",
              "    .colab-df-container {\n",
              "      display:flex;\n",
              "      gap: 12px;\n",
              "    }\n",
              "\n",
              "    .colab-df-convert {\n",
              "      background-color: #E8F0FE;\n",
              "      border: none;\n",
              "      border-radius: 50%;\n",
              "      cursor: pointer;\n",
              "      display: none;\n",
              "      fill: #1967D2;\n",
              "      height: 32px;\n",
              "      padding: 0 0 0 0;\n",
              "      width: 32px;\n",
              "    }\n",
              "\n",
              "    .colab-df-convert:hover {\n",
              "      background-color: #E2EBFA;\n",
              "      box-shadow: 0px 1px 2px rgba(60, 64, 67, 0.3), 0px 1px 3px 1px rgba(60, 64, 67, 0.15);\n",
              "      fill: #174EA6;\n",
              "    }\n",
              "\n",
              "    .colab-df-buttons div {\n",
              "      margin-bottom: 4px;\n",
              "    }\n",
              "\n",
              "    [theme=dark] .colab-df-convert {\n",
              "      background-color: #3B4455;\n",
              "      fill: #D2E3FC;\n",
              "    }\n",
              "\n",
              "    [theme=dark] .colab-df-convert:hover {\n",
              "      background-color: #434B5C;\n",
              "      box-shadow: 0px 1px 3px 1px rgba(0, 0, 0, 0.15);\n",
              "      filter: drop-shadow(0px 1px 2px rgba(0, 0, 0, 0.3));\n",
              "      fill: #FFFFFF;\n",
              "    }\n",
              "  </style>\n",
              "\n",
              "    <script>\n",
              "      const buttonEl =\n",
              "        document.querySelector('#df-d09ff938-faca-40e7-b457-504058e5e0b8 button.colab-df-convert');\n",
              "      buttonEl.style.display =\n",
              "        google.colab.kernel.accessAllowed ? 'block' : 'none';\n",
              "\n",
              "      async function convertToInteractive(key) {\n",
              "        const element = document.querySelector('#df-d09ff938-faca-40e7-b457-504058e5e0b8');\n",
              "        const dataTable =\n",
              "          await google.colab.kernel.invokeFunction('convertToInteractive',\n",
              "                                                    [key], {});\n",
              "        if (!dataTable) return;\n",
              "\n",
              "        const docLinkHtml = 'Like what you see? Visit the ' +\n",
              "          '<a target=\"_blank\" href=https://colab.research.google.com/notebooks/data_table.ipynb>data table notebook</a>'\n",
              "          + ' to learn more about interactive tables.';\n",
              "        element.innerHTML = '';\n",
              "        dataTable['output_type'] = 'display_data';\n",
              "        await google.colab.output.renderOutput(dataTable, element);\n",
              "        const docLink = document.createElement('div');\n",
              "        docLink.innerHTML = docLinkHtml;\n",
              "        element.appendChild(docLink);\n",
              "      }\n",
              "    </script>\n",
              "  </div>\n",
              "\n",
              "\n",
              "<div id=\"df-a5a0debb-8d46-4573-98ef-b7528deba9da\">\n",
              "  <button class=\"colab-df-quickchart\" onclick=\"quickchart('df-a5a0debb-8d46-4573-98ef-b7528deba9da')\"\n",
              "            title=\"Suggest charts\"\n",
              "            style=\"display:none;\">\n",
              "\n",
              "<svg xmlns=\"http://www.w3.org/2000/svg\" height=\"24px\"viewBox=\"0 0 24 24\"\n",
              "     width=\"24px\">\n",
              "    <g>\n",
              "        <path d=\"M19 3H5c-1.1 0-2 .9-2 2v14c0 1.1.9 2 2 2h14c1.1 0 2-.9 2-2V5c0-1.1-.9-2-2-2zM9 17H7v-7h2v7zm4 0h-2V7h2v10zm4 0h-2v-4h2v4z\"/>\n",
              "    </g>\n",
              "</svg>\n",
              "  </button>\n",
              "\n",
              "<style>\n",
              "  .colab-df-quickchart {\n",
              "      --bg-color: #E8F0FE;\n",
              "      --fill-color: #1967D2;\n",
              "      --hover-bg-color: #E2EBFA;\n",
              "      --hover-fill-color: #174EA6;\n",
              "      --disabled-fill-color: #AAA;\n",
              "      --disabled-bg-color: #DDD;\n",
              "  }\n",
              "\n",
              "  [theme=dark] .colab-df-quickchart {\n",
              "      --bg-color: #3B4455;\n",
              "      --fill-color: #D2E3FC;\n",
              "      --hover-bg-color: #434B5C;\n",
              "      --hover-fill-color: #FFFFFF;\n",
              "      --disabled-bg-color: #3B4455;\n",
              "      --disabled-fill-color: #666;\n",
              "  }\n",
              "\n",
              "  .colab-df-quickchart {\n",
              "    background-color: var(--bg-color);\n",
              "    border: none;\n",
              "    border-radius: 50%;\n",
              "    cursor: pointer;\n",
              "    display: none;\n",
              "    fill: var(--fill-color);\n",
              "    height: 32px;\n",
              "    padding: 0;\n",
              "    width: 32px;\n",
              "  }\n",
              "\n",
              "  .colab-df-quickchart:hover {\n",
              "    background-color: var(--hover-bg-color);\n",
              "    box-shadow: 0 1px 2px rgba(60, 64, 67, 0.3), 0 1px 3px 1px rgba(60, 64, 67, 0.15);\n",
              "    fill: var(--button-hover-fill-color);\n",
              "  }\n",
              "\n",
              "  .colab-df-quickchart-complete:disabled,\n",
              "  .colab-df-quickchart-complete:disabled:hover {\n",
              "    background-color: var(--disabled-bg-color);\n",
              "    fill: var(--disabled-fill-color);\n",
              "    box-shadow: none;\n",
              "  }\n",
              "\n",
              "  .colab-df-spinner {\n",
              "    border: 2px solid var(--fill-color);\n",
              "    border-color: transparent;\n",
              "    border-bottom-color: var(--fill-color);\n",
              "    animation:\n",
              "      spin 1s steps(1) infinite;\n",
              "  }\n",
              "\n",
              "  @keyframes spin {\n",
              "    0% {\n",
              "      border-color: transparent;\n",
              "      border-bottom-color: var(--fill-color);\n",
              "      border-left-color: var(--fill-color);\n",
              "    }\n",
              "    20% {\n",
              "      border-color: transparent;\n",
              "      border-left-color: var(--fill-color);\n",
              "      border-top-color: var(--fill-color);\n",
              "    }\n",
              "    30% {\n",
              "      border-color: transparent;\n",
              "      border-left-color: var(--fill-color);\n",
              "      border-top-color: var(--fill-color);\n",
              "      border-right-color: var(--fill-color);\n",
              "    }\n",
              "    40% {\n",
              "      border-color: transparent;\n",
              "      border-right-color: var(--fill-color);\n",
              "      border-top-color: var(--fill-color);\n",
              "    }\n",
              "    60% {\n",
              "      border-color: transparent;\n",
              "      border-right-color: var(--fill-color);\n",
              "    }\n",
              "    80% {\n",
              "      border-color: transparent;\n",
              "      border-right-color: var(--fill-color);\n",
              "      border-bottom-color: var(--fill-color);\n",
              "    }\n",
              "    90% {\n",
              "      border-color: transparent;\n",
              "      border-bottom-color: var(--fill-color);\n",
              "    }\n",
              "  }\n",
              "</style>\n",
              "\n",
              "  <script>\n",
              "    async function quickchart(key) {\n",
              "      const quickchartButtonEl =\n",
              "        document.querySelector('#' + key + ' button');\n",
              "      quickchartButtonEl.disabled = true;  // To prevent multiple clicks.\n",
              "      quickchartButtonEl.classList.add('colab-df-spinner');\n",
              "      try {\n",
              "        const charts = await google.colab.kernel.invokeFunction(\n",
              "            'suggestCharts', [key], {});\n",
              "      } catch (error) {\n",
              "        console.error('Error during call to suggestCharts:', error);\n",
              "      }\n",
              "      quickchartButtonEl.classList.remove('colab-df-spinner');\n",
              "      quickchartButtonEl.classList.add('colab-df-quickchart-complete');\n",
              "    }\n",
              "    (() => {\n",
              "      let quickchartButtonEl =\n",
              "        document.querySelector('#df-a5a0debb-8d46-4573-98ef-b7528deba9da button');\n",
              "      quickchartButtonEl.style.display =\n",
              "        google.colab.kernel.accessAllowed ? 'block' : 'none';\n",
              "    })();\n",
              "  </script>\n",
              "</div>\n",
              "\n",
              "    </div>\n",
              "  </div>\n"
            ],
            "application/vnd.google.colaboratory.intrinsic+json": {
              "type": "dataframe",
              "variable_name": "kwk_df",
              "repr_error": "'str' object has no attribute 'empty'"
            }
          },
          "metadata": {},
          "execution_count": 9
        }
      ]
    },
    {
      "cell_type": "code",
      "source": [
        "kwk_df.to_excel('Koffee with Karan Data.xlsx')"
      ],
      "metadata": {
        "id": "Qy-8E8b4TKVN"
      },
      "execution_count": 10,
      "outputs": []
    }
  ]
}